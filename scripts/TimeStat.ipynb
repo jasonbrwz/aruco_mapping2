{
 "cells": [
  {
   "cell_type": "code",
   "execution_count": 35,
   "metadata": {},
   "outputs": [],
   "source": [
    "time_list = []\n",
    "with open('time_log.txt', 'r') as f:\n",
    "    for line in f:\n",
    "        try:\n",
    "            time = float(line)\n",
    "            time_list.append(time)\n",
    "        except ValueError as ve:\n",
    "            continue\n",
    "        "
   ]
  },
  {
   "cell_type": "code",
   "execution_count": 36,
   "metadata": {},
   "outputs": [
    {
     "name": "stdout",
     "output_type": "stream",
     "text": [
      "帧率 FPS： 13\n",
      "帧率 FPS： 13\n",
      "帧率 FPS： 13\n",
      "帧率 FPS： 7\n",
      "帧率 FPS： 11\n",
      "帧率 FPS： 1\n",
      "帧率 FPS： 1\n",
      "帧率 FPS： 18\n",
      "帧率 FPS： 19\n",
      "帧率 FPS： 19\n",
      "帧率 FPS： 20\n",
      "帧率 FPS： 20\n",
      "帧率 FPS： 19\n",
      "帧率 FPS： 20\n",
      "帧率 FPS： 20\n",
      "帧率 FPS： 20\n",
      "帧率 FPS： 20\n",
      "帧率 FPS： 18\n",
      "帧率 FPS： 18\n",
      "帧率 FPS： 19\n",
      "帧率 FPS： 20\n",
      "帧率 FPS： 17\n",
      "帧率 FPS： 20\n",
      "帧率 FPS： 20\n",
      "帧率 FPS： 19\n",
      "帧率 FPS： 10\n",
      "帧率 FPS： 17\n",
      "帧率 FPS： 18\n",
      "帧率 FPS： 19\n",
      "帧率 FPS： 19\n",
      "帧率 FPS： 19\n",
      "帧率 FPS： 20\n",
      "帧率 FPS： 19\n",
      "帧率 FPS： 19\n",
      "帧率 FPS： 20\n",
      "帧率 FPS： 19\n",
      "帧率 FPS： 20\n",
      "帧率 FPS： 19\n",
      "帧率 FPS： 19\n",
      "帧率 FPS： 20\n",
      "帧率 FPS： 20\n",
      "帧率 FPS： 19\n",
      "帧率 FPS： 19\n",
      "帧率 FPS： 19\n",
      "帧率 FPS： 19\n",
      "帧率 FPS： 19\n",
      "帧率 FPS： 19\n",
      "帧率 FPS： 18\n",
      "帧率 FPS： 20\n",
      "帧率 FPS： 19\n",
      "帧率 FPS： 20\n",
      "帧率 FPS： 18\n",
      "帧率 FPS： 19\n",
      "帧率 FPS： 20\n",
      "帧率 FPS： 20\n",
      "帧率 FPS： 19\n",
      "帧率 FPS： 18\n",
      "帧率 FPS： 19\n",
      "帧率 FPS： 20\n",
      "帧率 FPS： 19\n"
     ]
    }
   ],
   "source": [
    "base_time = time_list[0]\n",
    "idx = 1\n",
    "fps = 0\n",
    "while idx < len(time_list):\n",
    "    if time_list[idx] - base_time < 1:\n",
    "        fps += 1\n",
    "    else:\n",
    "        print(\"帧率 FPS： {}\".format(fps))\n",
    "        base_time = time_list[idx]\n",
    "        fps = 0\n",
    "        \n",
    "    idx+=1"
   ]
  }
 ],
 "metadata": {
  "kernelspec": {
   "display_name": "Python 3",
   "language": "python",
   "name": "python3"
  },
  "language_info": {
   "codemirror_mode": {
    "name": "ipython",
    "version": 3
   },
   "file_extension": ".py",
   "mimetype": "text/x-python",
   "name": "python",
   "nbconvert_exporter": "python",
   "pygments_lexer": "ipython3",
   "version": "3.5.2"
  }
 },
 "nbformat": 4,
 "nbformat_minor": 2
}
